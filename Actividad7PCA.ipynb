{
 "cells": [
  {
   "cell_type": "markdown",
   "metadata": {
    "id": "zZeKeQlF-0tP"
   },
   "source": [
    "**MAESTRÍA EN INTELIGENCIA ARTIFICIAL APLICADA**\n",
    "\n",
    "**Curso: TC4029 - Ciencia y analítica de datos**\n",
    "\n",
    "Tecnológico de Monterrey\n",
    "\n",
    "Prof Grettel Barceló Alonso\n",
    "\n",
    "**Semana 7**\n",
    "Análisis de Componentes Principales (PCA)\n",
    "\n",
    "---"
   ]
  },
  {
   "cell_type": "markdown",
   "metadata": {
    "id": "_jPAgA5K_Atl"
   },
   "source": [
    "*   NOMBRE: ---------------------------------------------------------\n",
    "*   MATRÍCULA: ----------------------------------------------------"
   ]
  },
  {
   "cell_type": "code",
   "execution_count": null,
   "metadata": {
    "colab": {
     "base_uri": "https://localhost:8080/"
    },
    "executionInfo": {
     "elapsed": 18785,
     "status": "ok",
     "timestamp": 1672883661567,
     "user": {
      "displayName": "Grettel Barceló Alonso",
      "userId": "01577411478517144249"
     },
     "user_tz": 360
    },
    "id": "QElz-qw8_Aa7",
    "outputId": "8412b1dd-ac43-4452-bbb7-f4dc0d75790a"
   },
   "outputs": [
    {
     "name": "stdout",
     "output_type": "stream",
     "text": [
      "Mounted at /content/drive\n"
     ]
    }
   ],
   "source": [
    "from google.colab import drive\n",
    "drive.mount('/content/drive')"
   ]
  },
  {
   "cell_type": "code",
   "execution_count": null,
   "metadata": {
    "id": "KYozDMGz_EzL"
   },
   "outputs": [],
   "source": [
    "import os\n",
    "DIR = \"/content/drive/MyDrive/Colab Notebooks/MNA/TC4029 - Ciencia y analítica de datos/Semana 7/Actividad7_PCA\"\n",
    "os.chdir(DIR)"
   ]
  },
  {
   "cell_type": "code",
   "execution_count": 1,
   "metadata": {
    "id": "wMArpaFx_Mbd"
   },
   "outputs": [],
   "source": [
    "import pandas as pd\n",
    "import numpy as np\n",
    "import matplotlib.pyplot as plt\n",
    "import seaborn as sns\n",
    "import scipy.stats as stats"
   ]
  },
  {
   "cell_type": "code",
   "execution_count": 2,
   "metadata": {
    "colab": {
     "base_uri": "https://localhost:8080/",
     "height": 424
    },
    "executionInfo": {
     "elapsed": 211,
     "status": "ok",
     "timestamp": 1672883664265,
     "user": {
      "displayName": "Grettel Barceló Alonso",
      "userId": "01577411478517144249"
     },
     "user_tz": 360
    },
    "id": "jenoVKNN_OhH",
    "outputId": "512454e4-b65d-4dd1-e812-5da603e7dd6b"
   },
   "outputs": [
    {
     "data": {
      "text/html": [
       "<div>\n",
       "<style scoped>\n",
       "    .dataframe tbody tr th:only-of-type {\n",
       "        vertical-align: middle;\n",
       "    }\n",
       "\n",
       "    .dataframe tbody tr th {\n",
       "        vertical-align: top;\n",
       "    }\n",
       "\n",
       "    .dataframe thead th {\n",
       "        text-align: right;\n",
       "    }\n",
       "</style>\n",
       "<table border=\"1\" class=\"dataframe\">\n",
       "  <thead>\n",
       "    <tr style=\"text-align: right;\">\n",
       "      <th></th>\n",
       "      <th>name</th>\n",
       "      <th>mfr</th>\n",
       "      <th>type</th>\n",
       "      <th>calories</th>\n",
       "      <th>protein</th>\n",
       "      <th>fat</th>\n",
       "      <th>sodium</th>\n",
       "      <th>fiber</th>\n",
       "      <th>carbo</th>\n",
       "      <th>sugars</th>\n",
       "      <th>potass</th>\n",
       "      <th>vitamins</th>\n",
       "      <th>shelf</th>\n",
       "      <th>weight</th>\n",
       "      <th>cups</th>\n",
       "      <th>rating</th>\n",
       "    </tr>\n",
       "  </thead>\n",
       "  <tbody>\n",
       "    <tr>\n",
       "      <th>0</th>\n",
       "      <td>100%_Bran</td>\n",
       "      <td>N</td>\n",
       "      <td>C</td>\n",
       "      <td>70</td>\n",
       "      <td>4</td>\n",
       "      <td>1</td>\n",
       "      <td>130</td>\n",
       "      <td>10.0</td>\n",
       "      <td>5.0</td>\n",
       "      <td>6.0</td>\n",
       "      <td>280.0</td>\n",
       "      <td>25</td>\n",
       "      <td>3</td>\n",
       "      <td>1.0</td>\n",
       "      <td>0.33</td>\n",
       "      <td>68.402973</td>\n",
       "    </tr>\n",
       "    <tr>\n",
       "      <th>1</th>\n",
       "      <td>100%_Natural_Bran</td>\n",
       "      <td>Q</td>\n",
       "      <td>C</td>\n",
       "      <td>120</td>\n",
       "      <td>3</td>\n",
       "      <td>5</td>\n",
       "      <td>15</td>\n",
       "      <td>2.0</td>\n",
       "      <td>8.0</td>\n",
       "      <td>8.0</td>\n",
       "      <td>135.0</td>\n",
       "      <td>0</td>\n",
       "      <td>3</td>\n",
       "      <td>1.0</td>\n",
       "      <td>1.00</td>\n",
       "      <td>33.983679</td>\n",
       "    </tr>\n",
       "    <tr>\n",
       "      <th>2</th>\n",
       "      <td>All-Bran</td>\n",
       "      <td>K</td>\n",
       "      <td>C</td>\n",
       "      <td>70</td>\n",
       "      <td>4</td>\n",
       "      <td>1</td>\n",
       "      <td>260</td>\n",
       "      <td>9.0</td>\n",
       "      <td>7.0</td>\n",
       "      <td>5.0</td>\n",
       "      <td>320.0</td>\n",
       "      <td>25</td>\n",
       "      <td>3</td>\n",
       "      <td>1.0</td>\n",
       "      <td>0.33</td>\n",
       "      <td>59.425505</td>\n",
       "    </tr>\n",
       "    <tr>\n",
       "      <th>3</th>\n",
       "      <td>All-Bran_with_Extra_Fiber</td>\n",
       "      <td>K</td>\n",
       "      <td>C</td>\n",
       "      <td>50</td>\n",
       "      <td>4</td>\n",
       "      <td>0</td>\n",
       "      <td>140</td>\n",
       "      <td>14.0</td>\n",
       "      <td>8.0</td>\n",
       "      <td>0.0</td>\n",
       "      <td>330.0</td>\n",
       "      <td>25</td>\n",
       "      <td>3</td>\n",
       "      <td>1.0</td>\n",
       "      <td>0.50</td>\n",
       "      <td>93.704912</td>\n",
       "    </tr>\n",
       "    <tr>\n",
       "      <th>4</th>\n",
       "      <td>Almond_Delight</td>\n",
       "      <td>R</td>\n",
       "      <td>C</td>\n",
       "      <td>110</td>\n",
       "      <td>2</td>\n",
       "      <td>2</td>\n",
       "      <td>200</td>\n",
       "      <td>1.0</td>\n",
       "      <td>14.0</td>\n",
       "      <td>8.0</td>\n",
       "      <td>NaN</td>\n",
       "      <td>25</td>\n",
       "      <td>3</td>\n",
       "      <td>1.0</td>\n",
       "      <td>0.75</td>\n",
       "      <td>34.384843</td>\n",
       "    </tr>\n",
       "    <tr>\n",
       "      <th>...</th>\n",
       "      <td>...</td>\n",
       "      <td>...</td>\n",
       "      <td>...</td>\n",
       "      <td>...</td>\n",
       "      <td>...</td>\n",
       "      <td>...</td>\n",
       "      <td>...</td>\n",
       "      <td>...</td>\n",
       "      <td>...</td>\n",
       "      <td>...</td>\n",
       "      <td>...</td>\n",
       "      <td>...</td>\n",
       "      <td>...</td>\n",
       "      <td>...</td>\n",
       "      <td>...</td>\n",
       "      <td>...</td>\n",
       "    </tr>\n",
       "    <tr>\n",
       "      <th>72</th>\n",
       "      <td>Triples</td>\n",
       "      <td>G</td>\n",
       "      <td>C</td>\n",
       "      <td>110</td>\n",
       "      <td>2</td>\n",
       "      <td>1</td>\n",
       "      <td>250</td>\n",
       "      <td>0.0</td>\n",
       "      <td>21.0</td>\n",
       "      <td>3.0</td>\n",
       "      <td>60.0</td>\n",
       "      <td>25</td>\n",
       "      <td>3</td>\n",
       "      <td>1.0</td>\n",
       "      <td>0.75</td>\n",
       "      <td>39.106174</td>\n",
       "    </tr>\n",
       "    <tr>\n",
       "      <th>73</th>\n",
       "      <td>Trix</td>\n",
       "      <td>G</td>\n",
       "      <td>C</td>\n",
       "      <td>110</td>\n",
       "      <td>1</td>\n",
       "      <td>1</td>\n",
       "      <td>140</td>\n",
       "      <td>0.0</td>\n",
       "      <td>13.0</td>\n",
       "      <td>12.0</td>\n",
       "      <td>25.0</td>\n",
       "      <td>25</td>\n",
       "      <td>2</td>\n",
       "      <td>1.0</td>\n",
       "      <td>1.00</td>\n",
       "      <td>27.753301</td>\n",
       "    </tr>\n",
       "    <tr>\n",
       "      <th>74</th>\n",
       "      <td>Wheat_Chex</td>\n",
       "      <td>R</td>\n",
       "      <td>C</td>\n",
       "      <td>100</td>\n",
       "      <td>3</td>\n",
       "      <td>1</td>\n",
       "      <td>230</td>\n",
       "      <td>3.0</td>\n",
       "      <td>17.0</td>\n",
       "      <td>3.0</td>\n",
       "      <td>115.0</td>\n",
       "      <td>25</td>\n",
       "      <td>1</td>\n",
       "      <td>1.0</td>\n",
       "      <td>0.67</td>\n",
       "      <td>49.787445</td>\n",
       "    </tr>\n",
       "    <tr>\n",
       "      <th>75</th>\n",
       "      <td>Wheaties</td>\n",
       "      <td>G</td>\n",
       "      <td>C</td>\n",
       "      <td>100</td>\n",
       "      <td>3</td>\n",
       "      <td>1</td>\n",
       "      <td>200</td>\n",
       "      <td>3.0</td>\n",
       "      <td>17.0</td>\n",
       "      <td>3.0</td>\n",
       "      <td>110.0</td>\n",
       "      <td>25</td>\n",
       "      <td>1</td>\n",
       "      <td>1.0</td>\n",
       "      <td>1.00</td>\n",
       "      <td>51.592193</td>\n",
       "    </tr>\n",
       "    <tr>\n",
       "      <th>76</th>\n",
       "      <td>Wheaties_Honey_Gold</td>\n",
       "      <td>G</td>\n",
       "      <td>C</td>\n",
       "      <td>110</td>\n",
       "      <td>2</td>\n",
       "      <td>1</td>\n",
       "      <td>200</td>\n",
       "      <td>1.0</td>\n",
       "      <td>16.0</td>\n",
       "      <td>8.0</td>\n",
       "      <td>60.0</td>\n",
       "      <td>25</td>\n",
       "      <td>1</td>\n",
       "      <td>1.0</td>\n",
       "      <td>0.75</td>\n",
       "      <td>36.187559</td>\n",
       "    </tr>\n",
       "  </tbody>\n",
       "</table>\n",
       "<p>77 rows × 16 columns</p>\n",
       "</div>"
      ],
      "text/plain": [
       "                         name mfr type  calories  protein  fat  sodium  fiber  \\\n",
       "0                   100%_Bran   N    C        70        4    1     130   10.0   \n",
       "1           100%_Natural_Bran   Q    C       120        3    5      15    2.0   \n",
       "2                    All-Bran   K    C        70        4    1     260    9.0   \n",
       "3   All-Bran_with_Extra_Fiber   K    C        50        4    0     140   14.0   \n",
       "4              Almond_Delight   R    C       110        2    2     200    1.0   \n",
       "..                        ...  ..  ...       ...      ...  ...     ...    ...   \n",
       "72                    Triples   G    C       110        2    1     250    0.0   \n",
       "73                       Trix   G    C       110        1    1     140    0.0   \n",
       "74                 Wheat_Chex   R    C       100        3    1     230    3.0   \n",
       "75                   Wheaties   G    C       100        3    1     200    3.0   \n",
       "76        Wheaties_Honey_Gold   G    C       110        2    1     200    1.0   \n",
       "\n",
       "    carbo  sugars  potass  vitamins  shelf  weight  cups     rating  \n",
       "0     5.0     6.0   280.0        25      3     1.0  0.33  68.402973  \n",
       "1     8.0     8.0   135.0         0      3     1.0  1.00  33.983679  \n",
       "2     7.0     5.0   320.0        25      3     1.0  0.33  59.425505  \n",
       "3     8.0     0.0   330.0        25      3     1.0  0.50  93.704912  \n",
       "4    14.0     8.0     NaN        25      3     1.0  0.75  34.384843  \n",
       "..    ...     ...     ...       ...    ...     ...   ...        ...  \n",
       "72   21.0     3.0    60.0        25      3     1.0  0.75  39.106174  \n",
       "73   13.0    12.0    25.0        25      2     1.0  1.00  27.753301  \n",
       "74   17.0     3.0   115.0        25      1     1.0  0.67  49.787445  \n",
       "75   17.0     3.0   110.0        25      1     1.0  1.00  51.592193  \n",
       "76   16.0     8.0    60.0        25      1     1.0  0.75  36.187559  \n",
       "\n",
       "[77 rows x 16 columns]"
      ]
     },
     "execution_count": 2,
     "metadata": {},
     "output_type": "execute_result"
    }
   ],
   "source": [
    "cereals_df = pd.read_csv('Cereals.csv')\n",
    "cereals_df"
   ]
  },
  {
   "cell_type": "markdown",
   "metadata": {
    "id": "VYwGAFlVgYCp"
   },
   "source": [
    "# **Parte 1**. EDA y preprocesamiento"
   ]
  },
  {
   "cell_type": "markdown",
   "metadata": {
    "id": "OPfTGSQBgw5C"
   },
   "source": [
    "1. Obtén estadísticas descriptivas para todas las variables del dataframe. "
   ]
  },
  {
   "cell_type": "code",
   "execution_count": 3,
   "metadata": {},
   "outputs": [
    {
     "name": "stdout",
     "output_type": "stream",
     "text": [
      "<class 'pandas.core.frame.DataFrame'>\n",
      "RangeIndex: 77 entries, 0 to 76\n",
      "Data columns (total 16 columns):\n",
      " #   Column    Non-Null Count  Dtype  \n",
      "---  ------    --------------  -----  \n",
      " 0   name      77 non-null     object \n",
      " 1   mfr       77 non-null     object \n",
      " 2   type      77 non-null     object \n",
      " 3   calories  77 non-null     int64  \n",
      " 4   protein   77 non-null     int64  \n",
      " 5   fat       77 non-null     int64  \n",
      " 6   sodium    77 non-null     int64  \n",
      " 7   fiber     77 non-null     float64\n",
      " 8   carbo     76 non-null     float64\n",
      " 9   sugars    76 non-null     float64\n",
      " 10  potass    75 non-null     float64\n",
      " 11  vitamins  77 non-null     int64  \n",
      " 12  shelf     77 non-null     int64  \n",
      " 13  weight    77 non-null     float64\n",
      " 14  cups      77 non-null     float64\n",
      " 15  rating    77 non-null     float64\n",
      "dtypes: float64(7), int64(6), object(3)\n",
      "memory usage: 9.8+ KB\n"
     ]
    }
   ],
   "source": [
    "cereals_df.info()"
   ]
  },
  {
   "cell_type": "code",
   "execution_count": 4,
   "metadata": {},
   "outputs": [],
   "source": [
    "cereals_df['shelf'] = cereals_df['shelf'].astype('object')"
   ]
  },
  {
   "cell_type": "code",
   "execution_count": 5,
   "metadata": {
    "id": "07VOb9HMuAnx"
   },
   "outputs": [
    {
     "data": {
      "text/html": [
       "<div>\n",
       "<style scoped>\n",
       "    .dataframe tbody tr th:only-of-type {\n",
       "        vertical-align: middle;\n",
       "    }\n",
       "\n",
       "    .dataframe tbody tr th {\n",
       "        vertical-align: top;\n",
       "    }\n",
       "\n",
       "    .dataframe thead th {\n",
       "        text-align: right;\n",
       "    }\n",
       "</style>\n",
       "<table border=\"1\" class=\"dataframe\">\n",
       "  <thead>\n",
       "    <tr style=\"text-align: right;\">\n",
       "      <th></th>\n",
       "      <th>count</th>\n",
       "      <th>mean</th>\n",
       "      <th>std</th>\n",
       "      <th>min</th>\n",
       "      <th>25%</th>\n",
       "      <th>50%</th>\n",
       "      <th>75%</th>\n",
       "      <th>max</th>\n",
       "    </tr>\n",
       "  </thead>\n",
       "  <tbody>\n",
       "    <tr>\n",
       "      <th>calories</th>\n",
       "      <td>77.0</td>\n",
       "      <td>106.883117</td>\n",
       "      <td>19.484119</td>\n",
       "      <td>50.000000</td>\n",
       "      <td>100.000000</td>\n",
       "      <td>110.000000</td>\n",
       "      <td>110.000000</td>\n",
       "      <td>160.000000</td>\n",
       "    </tr>\n",
       "    <tr>\n",
       "      <th>protein</th>\n",
       "      <td>77.0</td>\n",
       "      <td>2.545455</td>\n",
       "      <td>1.094790</td>\n",
       "      <td>1.000000</td>\n",
       "      <td>2.000000</td>\n",
       "      <td>3.000000</td>\n",
       "      <td>3.000000</td>\n",
       "      <td>6.000000</td>\n",
       "    </tr>\n",
       "    <tr>\n",
       "      <th>fat</th>\n",
       "      <td>77.0</td>\n",
       "      <td>1.012987</td>\n",
       "      <td>1.006473</td>\n",
       "      <td>0.000000</td>\n",
       "      <td>0.000000</td>\n",
       "      <td>1.000000</td>\n",
       "      <td>2.000000</td>\n",
       "      <td>5.000000</td>\n",
       "    </tr>\n",
       "    <tr>\n",
       "      <th>sodium</th>\n",
       "      <td>77.0</td>\n",
       "      <td>159.675325</td>\n",
       "      <td>83.832295</td>\n",
       "      <td>0.000000</td>\n",
       "      <td>130.000000</td>\n",
       "      <td>180.000000</td>\n",
       "      <td>210.000000</td>\n",
       "      <td>320.000000</td>\n",
       "    </tr>\n",
       "    <tr>\n",
       "      <th>fiber</th>\n",
       "      <td>77.0</td>\n",
       "      <td>2.151948</td>\n",
       "      <td>2.383364</td>\n",
       "      <td>0.000000</td>\n",
       "      <td>1.000000</td>\n",
       "      <td>2.000000</td>\n",
       "      <td>3.000000</td>\n",
       "      <td>14.000000</td>\n",
       "    </tr>\n",
       "    <tr>\n",
       "      <th>carbo</th>\n",
       "      <td>76.0</td>\n",
       "      <td>14.802632</td>\n",
       "      <td>3.907326</td>\n",
       "      <td>5.000000</td>\n",
       "      <td>12.000000</td>\n",
       "      <td>14.500000</td>\n",
       "      <td>17.000000</td>\n",
       "      <td>23.000000</td>\n",
       "    </tr>\n",
       "    <tr>\n",
       "      <th>sugars</th>\n",
       "      <td>76.0</td>\n",
       "      <td>7.026316</td>\n",
       "      <td>4.378656</td>\n",
       "      <td>0.000000</td>\n",
       "      <td>3.000000</td>\n",
       "      <td>7.000000</td>\n",
       "      <td>11.000000</td>\n",
       "      <td>15.000000</td>\n",
       "    </tr>\n",
       "    <tr>\n",
       "      <th>potass</th>\n",
       "      <td>75.0</td>\n",
       "      <td>98.666667</td>\n",
       "      <td>70.410636</td>\n",
       "      <td>15.000000</td>\n",
       "      <td>42.500000</td>\n",
       "      <td>90.000000</td>\n",
       "      <td>120.000000</td>\n",
       "      <td>330.000000</td>\n",
       "    </tr>\n",
       "    <tr>\n",
       "      <th>vitamins</th>\n",
       "      <td>77.0</td>\n",
       "      <td>28.246753</td>\n",
       "      <td>22.342523</td>\n",
       "      <td>0.000000</td>\n",
       "      <td>25.000000</td>\n",
       "      <td>25.000000</td>\n",
       "      <td>25.000000</td>\n",
       "      <td>100.000000</td>\n",
       "    </tr>\n",
       "    <tr>\n",
       "      <th>weight</th>\n",
       "      <td>77.0</td>\n",
       "      <td>1.029610</td>\n",
       "      <td>0.150477</td>\n",
       "      <td>0.500000</td>\n",
       "      <td>1.000000</td>\n",
       "      <td>1.000000</td>\n",
       "      <td>1.000000</td>\n",
       "      <td>1.500000</td>\n",
       "    </tr>\n",
       "    <tr>\n",
       "      <th>cups</th>\n",
       "      <td>77.0</td>\n",
       "      <td>0.821039</td>\n",
       "      <td>0.232716</td>\n",
       "      <td>0.250000</td>\n",
       "      <td>0.670000</td>\n",
       "      <td>0.750000</td>\n",
       "      <td>1.000000</td>\n",
       "      <td>1.500000</td>\n",
       "    </tr>\n",
       "    <tr>\n",
       "      <th>rating</th>\n",
       "      <td>77.0</td>\n",
       "      <td>42.665705</td>\n",
       "      <td>14.047289</td>\n",
       "      <td>18.042851</td>\n",
       "      <td>33.174094</td>\n",
       "      <td>40.400208</td>\n",
       "      <td>50.828392</td>\n",
       "      <td>93.704912</td>\n",
       "    </tr>\n",
       "  </tbody>\n",
       "</table>\n",
       "</div>"
      ],
      "text/plain": [
       "          count        mean        std        min         25%         50%  \\\n",
       "calories   77.0  106.883117  19.484119  50.000000  100.000000  110.000000   \n",
       "protein    77.0    2.545455   1.094790   1.000000    2.000000    3.000000   \n",
       "fat        77.0    1.012987   1.006473   0.000000    0.000000    1.000000   \n",
       "sodium     77.0  159.675325  83.832295   0.000000  130.000000  180.000000   \n",
       "fiber      77.0    2.151948   2.383364   0.000000    1.000000    2.000000   \n",
       "carbo      76.0   14.802632   3.907326   5.000000   12.000000   14.500000   \n",
       "sugars     76.0    7.026316   4.378656   0.000000    3.000000    7.000000   \n",
       "potass     75.0   98.666667  70.410636  15.000000   42.500000   90.000000   \n",
       "vitamins   77.0   28.246753  22.342523   0.000000   25.000000   25.000000   \n",
       "weight     77.0    1.029610   0.150477   0.500000    1.000000    1.000000   \n",
       "cups       77.0    0.821039   0.232716   0.250000    0.670000    0.750000   \n",
       "rating     77.0   42.665705  14.047289  18.042851   33.174094   40.400208   \n",
       "\n",
       "                 75%         max  \n",
       "calories  110.000000  160.000000  \n",
       "protein     3.000000    6.000000  \n",
       "fat         2.000000    5.000000  \n",
       "sodium    210.000000  320.000000  \n",
       "fiber       3.000000   14.000000  \n",
       "carbo      17.000000   23.000000  \n",
       "sugars     11.000000   15.000000  \n",
       "potass    120.000000  330.000000  \n",
       "vitamins   25.000000  100.000000  \n",
       "weight      1.000000    1.500000  \n",
       "cups        1.000000    1.500000  \n",
       "rating     50.828392   93.704912  "
      ]
     },
     "execution_count": 5,
     "metadata": {},
     "output_type": "execute_result"
    }
   ],
   "source": [
    "cereals_df.describe().T"
   ]
  },
  {
   "cell_type": "code",
   "execution_count": 6,
   "metadata": {},
   "outputs": [
    {
     "data": {
      "text/html": [
       "<div>\n",
       "<style scoped>\n",
       "    .dataframe tbody tr th:only-of-type {\n",
       "        vertical-align: middle;\n",
       "    }\n",
       "\n",
       "    .dataframe tbody tr th {\n",
       "        vertical-align: top;\n",
       "    }\n",
       "\n",
       "    .dataframe thead th {\n",
       "        text-align: right;\n",
       "    }\n",
       "</style>\n",
       "<table border=\"1\" class=\"dataframe\">\n",
       "  <thead>\n",
       "    <tr style=\"text-align: right;\">\n",
       "      <th></th>\n",
       "      <th>count</th>\n",
       "      <th>unique</th>\n",
       "      <th>top</th>\n",
       "      <th>freq</th>\n",
       "    </tr>\n",
       "  </thead>\n",
       "  <tbody>\n",
       "    <tr>\n",
       "      <th>name</th>\n",
       "      <td>77</td>\n",
       "      <td>77</td>\n",
       "      <td>100%_Bran</td>\n",
       "      <td>1</td>\n",
       "    </tr>\n",
       "    <tr>\n",
       "      <th>mfr</th>\n",
       "      <td>77</td>\n",
       "      <td>7</td>\n",
       "      <td>K</td>\n",
       "      <td>23</td>\n",
       "    </tr>\n",
       "    <tr>\n",
       "      <th>type</th>\n",
       "      <td>77</td>\n",
       "      <td>2</td>\n",
       "      <td>C</td>\n",
       "      <td>74</td>\n",
       "    </tr>\n",
       "    <tr>\n",
       "      <th>shelf</th>\n",
       "      <td>77</td>\n",
       "      <td>3</td>\n",
       "      <td>3</td>\n",
       "      <td>36</td>\n",
       "    </tr>\n",
       "  </tbody>\n",
       "</table>\n",
       "</div>"
      ],
      "text/plain": [
       "      count unique        top freq\n",
       "name     77     77  100%_Bran    1\n",
       "mfr      77      7          K   23\n",
       "type     77      2          C   74\n",
       "shelf    77      3          3   36"
      ]
     },
     "execution_count": 6,
     "metadata": {},
     "output_type": "execute_result"
    }
   ],
   "source": [
    "cereals_df.describe(include='object').T"
   ]
  },
  {
   "cell_type": "markdown",
   "metadata": {
    "id": "tNciKJBChIJ4"
   },
   "source": [
    "Genera algunos gráficos para familiarizarte con el conjunto de datos. Al menos deberás incluir los que te permitan responder los siguientes cuestionamientos:\n",
    "\n",
    "**Nota.** Debes responder de manera explícita las preguntas, apoyándote de los resultados observados de cada gráfico. \n",
    "\n",
    "2a) ¿Cuál es la frecuencia o conteo de cada categoría para las variables: `mfr` y `shelf` (por separado)? "
   ]
  },
  {
   "cell_type": "code",
   "execution_count": 7,
   "metadata": {},
   "outputs": [],
   "source": [
    "def countVariableValues(df,columns):\n",
    "    for column in columns:\n",
    "        print(f'<<<< {column} >>>>')\n",
    "        print(df[column].value_counts())\n",
    "        "
   ]
  },
  {
   "cell_type": "code",
   "execution_count": 8,
   "metadata": {},
   "outputs": [
    {
     "name": "stdout",
     "output_type": "stream",
     "text": [
      "<<<< mfr >>>>\n",
      "mfr\n",
      "K    23\n",
      "G    22\n",
      "P     9\n",
      "Q     8\n",
      "R     8\n",
      "N     6\n",
      "A     1\n",
      "Name: count, dtype: int64\n",
      "<<<< shelf >>>>\n",
      "shelf\n",
      "3    36\n",
      "2    21\n",
      "1    20\n",
      "Name: count, dtype: int64\n"
     ]
    }
   ],
   "source": [
    "countVariableValues(cereals_df,['mfr', 'shelf'])"
   ]
  },
  {
   "cell_type": "code",
   "execution_count": 9,
   "metadata": {},
   "outputs": [],
   "source": [
    "def graphCountplot(df, columns):\n",
    "    plt.figure(figsize=(15,15))\n",
    "    for i, col in enumerate(columns, 1):\n",
    "        plt.subplot(int(round(len(columns)/2)),2, i)\n",
    "        plt.xticks(rotation=90) \n",
    "        sns.countplot(x=df[col])\n",
    "    plt.tight_layout()"
   ]
  },
  {
   "cell_type": "code",
   "execution_count": 10,
   "metadata": {},
   "outputs": [
    {
     "data": {
      "image/png": "[encoded data removed]",
      "text/plain": [
       "<Figure size 1500x1500 with 2 Axes>"
      ]
     },
     "metadata": {},
     "output_type": "display_data"
    }
   ],
   "source": [
    "graphCountplot(cereals_df, ['mfr', 'shelf'])"
   ]
  },
  {
   "cell_type": "markdown",
   "metadata": {
    "id": "BWsqaT90hajY"
   },
   "source": [
    "2b) Combina los resultados previos para observar, de cada fabricante, cuántos productos tiene en cada estante. "
   ]
  },
  {
   "cell_type": "code",
   "execution_count": 11,
   "metadata": {
    "id": "D8weqIO2oZKb"
   },
   "outputs": [
    {
     "data": {
      "text/html": [
       "<div>\n",
       "<style scoped>\n",
       "    .dataframe tbody tr th:only-of-type {\n",
       "        vertical-align: middle;\n",
       "    }\n",
       "\n",
       "    .dataframe tbody tr th {\n",
       "        vertical-align: top;\n",
       "    }\n",
       "\n",
       "    .dataframe thead th {\n",
       "        text-align: right;\n",
       "    }\n",
       "</style>\n",
       "<table border=\"1\" class=\"dataframe\">\n",
       "  <thead>\n",
       "    <tr style=\"text-align: right;\">\n",
       "      <th></th>\n",
       "      <th></th>\n",
       "      <th>count</th>\n",
       "    </tr>\n",
       "    <tr>\n",
       "      <th>shelf</th>\n",
       "      <th>mfr</th>\n",
       "      <th></th>\n",
       "    </tr>\n",
       "  </thead>\n",
       "  <tbody>\n",
       "    <tr>\n",
       "      <th rowspan=\"6\" valign=\"top\">1</th>\n",
       "      <th>G</th>\n",
       "      <td>6</td>\n",
       "    </tr>\n",
       "    <tr>\n",
       "      <th>K</th>\n",
       "      <td>4</td>\n",
       "    </tr>\n",
       "    <tr>\n",
       "      <th>R</th>\n",
       "      <td>4</td>\n",
       "    </tr>\n",
       "    <tr>\n",
       "      <th>N</th>\n",
       "      <td>3</td>\n",
       "    </tr>\n",
       "    <tr>\n",
       "      <th>P</th>\n",
       "      <td>2</td>\n",
       "    </tr>\n",
       "    <tr>\n",
       "      <th>Q</th>\n",
       "      <td>1</td>\n",
       "    </tr>\n",
       "    <tr>\n",
       "      <th rowspan=\"6\" valign=\"top\">2</th>\n",
       "      <th>K</th>\n",
       "      <td>7</td>\n",
       "    </tr>\n",
       "    <tr>\n",
       "      <th>G</th>\n",
       "      <td>7</td>\n",
       "    </tr>\n",
       "    <tr>\n",
       "      <th>Q</th>\n",
       "      <td>3</td>\n",
       "    </tr>\n",
       "    <tr>\n",
       "      <th>N</th>\n",
       "      <td>2</td>\n",
       "    </tr>\n",
       "    <tr>\n",
       "      <th>A</th>\n",
       "      <td>1</td>\n",
       "    </tr>\n",
       "    <tr>\n",
       "      <th>P</th>\n",
       "      <td>1</td>\n",
       "    </tr>\n",
       "    <tr>\n",
       "      <th rowspan=\"6\" valign=\"top\">3</th>\n",
       "      <th>K</th>\n",
       "      <td>12</td>\n",
       "    </tr>\n",
       "    <tr>\n",
       "      <th>G</th>\n",
       "      <td>9</td>\n",
       "    </tr>\n",
       "    <tr>\n",
       "      <th>P</th>\n",
       "      <td>6</td>\n",
       "    </tr>\n",
       "    <tr>\n",
       "      <th>Q</th>\n",
       "      <td>4</td>\n",
       "    </tr>\n",
       "    <tr>\n",
       "      <th>R</th>\n",
       "      <td>4</td>\n",
       "    </tr>\n",
       "    <tr>\n",
       "      <th>N</th>\n",
       "      <td>1</td>\n",
       "    </tr>\n",
       "  </tbody>\n",
       "</table>\n",
       "</div>"
      ],
      "text/plain": [
       "           count\n",
       "shelf mfr       \n",
       "1     G        6\n",
       "      K        4\n",
       "      R        4\n",
       "      N        3\n",
       "      P        2\n",
       "      Q        1\n",
       "2     K        7\n",
       "      G        7\n",
       "      Q        3\n",
       "      N        2\n",
       "      A        1\n",
       "      P        1\n",
       "3     K       12\n",
       "      G        9\n",
       "      P        6\n",
       "      Q        4\n",
       "      R        4\n",
       "      N        1"
      ]
     },
     "execution_count": 11,
     "metadata": {},
     "output_type": "execute_result"
    }
   ],
   "source": [
    "xs = cereals_df[['mfr','shelf']].groupby('shelf').value_counts().to_frame()\n",
    "xs"
   ]
  },
  {
   "cell_type": "code",
   "execution_count": 12,
   "metadata": {},
   "outputs": [
    {
     "data": {
      "text/plain": [
       "<Axes: xlabel='mfr', ylabel='count'>"
      ]
     },
     "execution_count": 12,
     "metadata": {},
     "output_type": "execute_result"
    },
    {
     "data": {
      "image/png": "[encoded data removed]",
      "text/plain": [
       "<Figure size 640x480 with 1 Axes>"
      ]
     },
     "metadata": {},
     "output_type": "display_data"
    }
   ],
   "source": [
    "sns.barplot(xs, x=\"mfr\", y=\"count\", hue=\"shelf\")"
   ]
  },
  {
   "cell_type": "markdown",
   "metadata": {
    "id": "R1iWDKvMhgSF"
   },
   "source": [
    " 3a) ¿Cuál es el rango más frecuente de la variable `rating`?"
   ]
  },
  {
   "cell_type": "code",
   "execution_count": 13,
   "metadata": {
    "id": "0h1U52UWoaSQ"
   },
   "outputs": [
    {
     "data": {
      "text/plain": [
       "40.400208"
      ]
     },
     "execution_count": 13,
     "metadata": {},
     "output_type": "execute_result"
    }
   ],
   "source": [
    "cereals_df['rating'].median()"
   ]
  },
  {
   "cell_type": "code",
   "execution_count": 14,
   "metadata": {},
   "outputs": [
    {
     "data": {
      "text/plain": [
       "<Axes: xlabel='rating', ylabel='Count'>"
      ]
     },
     "execution_count": 14,
     "metadata": {},
     "output_type": "execute_result"
    },
    {
     "data": {
      "image/png": "[encoded data removed]",
      "text/plain": [
       "<Figure size 640x480 with 1 Axes>"
      ]
     },
     "metadata": {},
     "output_type": "display_data"
    }
   ],
   "source": [
    "sns.histplot(cereals_df, x='rating', bins=10)"
   ]
  },
  {
   "cell_type": "markdown",
   "metadata": {
    "id": "dRw4LtNchnLD"
   },
   "source": [
    "3b) ¿Cuáles son los 10 cereales mejor evaluados y a qué fabricante corresponden? "
   ]
  },
  {
   "cell_type": "code",
   "execution_count": 15,
   "metadata": {
    "id": "FtNUjewoobG_"
   },
   "outputs": [
    {
     "data": {
      "text/html": [
       "<div>\n",
       "<style scoped>\n",
       "    .dataframe tbody tr th:only-of-type {\n",
       "        vertical-align: middle;\n",
       "    }\n",
       "\n",
       "    .dataframe tbody tr th {\n",
       "        vertical-align: top;\n",
       "    }\n",
       "\n",
       "    .dataframe thead th {\n",
       "        text-align: right;\n",
       "    }\n",
       "</style>\n",
       "<table border=\"1\" class=\"dataframe\">\n",
       "  <thead>\n",
       "    <tr style=\"text-align: right;\">\n",
       "      <th></th>\n",
       "      <th></th>\n",
       "      <th>rating</th>\n",
       "    </tr>\n",
       "    <tr>\n",
       "      <th>mfr</th>\n",
       "      <th>name</th>\n",
       "      <th></th>\n",
       "    </tr>\n",
       "  </thead>\n",
       "  <tbody>\n",
       "    <tr>\n",
       "      <th>K</th>\n",
       "      <th>All-Bran_with_Extra_Fiber</th>\n",
       "      <td>93.704912</td>\n",
       "    </tr>\n",
       "    <tr>\n",
       "      <th rowspan=\"5\" valign=\"top\">N</th>\n",
       "      <th>Shredded_Wheat_'n'Bran</th>\n",
       "      <td>74.472949</td>\n",
       "    </tr>\n",
       "    <tr>\n",
       "      <th>Shredded_Wheat_spoon_size</th>\n",
       "      <td>72.801787</td>\n",
       "    </tr>\n",
       "    <tr>\n",
       "      <th>100%_Bran</th>\n",
       "      <td>68.402973</td>\n",
       "    </tr>\n",
       "    <tr>\n",
       "      <th>Shredded_Wheat</th>\n",
       "      <td>68.235885</td>\n",
       "    </tr>\n",
       "    <tr>\n",
       "      <th>Cream_of_Wheat_(Quick)</th>\n",
       "      <td>64.533816</td>\n",
       "    </tr>\n",
       "    <tr>\n",
       "      <th rowspan=\"2\" valign=\"top\">Q</th>\n",
       "      <th>Puffed_Wheat</th>\n",
       "      <td>63.005645</td>\n",
       "    </tr>\n",
       "    <tr>\n",
       "      <th>Puffed_Rice</th>\n",
       "      <td>60.756112</td>\n",
       "    </tr>\n",
       "    <tr>\n",
       "      <th rowspan=\"2\" valign=\"top\">K</th>\n",
       "      <th>Nutri-grain_Wheat</th>\n",
       "      <td>59.642837</td>\n",
       "    </tr>\n",
       "    <tr>\n",
       "      <th>All-Bran</th>\n",
       "      <td>59.425505</td>\n",
       "    </tr>\n",
       "  </tbody>\n",
       "</table>\n",
       "</div>"
      ],
      "text/plain": [
       "                                  rating\n",
       "mfr name                                \n",
       "K   All-Bran_with_Extra_Fiber  93.704912\n",
       "N   Shredded_Wheat_'n'Bran     74.472949\n",
       "    Shredded_Wheat_spoon_size  72.801787\n",
       "    100%_Bran                  68.402973\n",
       "    Shredded_Wheat             68.235885\n",
       "    Cream_of_Wheat_(Quick)     64.533816\n",
       "Q   Puffed_Wheat               63.005645\n",
       "    Puffed_Rice                60.756112\n",
       "K   Nutri-grain_Wheat          59.642837\n",
       "    All-Bran                   59.425505"
      ]
     },
     "execution_count": 15,
     "metadata": {},
     "output_type": "execute_result"
    }
   ],
   "source": [
    "top_cereals_df = cereals_df[['mfr','name','rating']].groupby(['mfr','name']).mean().sort_values(by='rating',axis=0, ascending=False)[:10]\n",
    "top_cereals_df"
   ]
  },
  {
   "cell_type": "code",
   "execution_count": 16,
   "metadata": {},
   "outputs": [
    {
     "data": {
      "text/plain": [
       "<Axes: xlabel='name', ylabel='rating'>"
      ]
     },
     "execution_count": 16,
     "metadata": {},
     "output_type": "execute_result"
    },
    {
     "data": {
      "image/png": "[encoded data removed]",
      "text/plain": [
       "<Figure size 640x480 with 1 Axes>"
      ]
     },
     "metadata": {},
     "output_type": "display_data"
    }
   ],
   "source": [
    "plt.xticks(rotation=90) \n",
    "sns.barplot(top_cereals_df, x='name', y=\"rating\", hue='mfr')"
   ]
  },
  {
   "cell_type": "markdown",
   "metadata": {
    "id": "A2wbLHYnhtsp"
   },
   "source": [
    "4a) Compara la distribución de las calorías según el fabricante, por medio de boxplots. "
   ]
  },
  {
   "cell_type": "code",
   "execution_count": 17,
   "metadata": {
    "id": "MvzEDeMUob8s"
   },
   "outputs": [
    {
     "data": {
      "text/plain": [
       "<Axes: xlabel='mfr', ylabel='calories'>"
      ]
     },
     "execution_count": 17,
     "metadata": {},
     "output_type": "execute_result"
    },
    {
     "data": {
      "image/png": "[encoded data removed]",
      "text/plain": [
       "<Figure size 640x480 with 1 Axes>"
      ]
     },
     "metadata": {},
     "output_type": "display_data"
    }
   ],
   "source": [
    "sns.boxplot(data=cereals_df, x='mfr', y='calories', hue='mfr')"
   ]
  },
  {
   "cell_type": "markdown",
   "metadata": {
    "id": "NywjiWzIhy9X"
   },
   "source": [
    "4b) ¿Cuáles son las dos variables que tienen mayor correlación con `rating`? \n",
    "\n",
    "\n",
    "`Fiber`"
   ]
  },
  {
   "cell_type": "code",
   "execution_count": 18,
   "metadata": {
    "id": "8f5avPbYoc3r"
   },
   "outputs": [
    {
     "data": {
      "text/plain": [
       "<Axes: >"
      ]
     },
     "execution_count": 18,
     "metadata": {},
     "output_type": "execute_result"
    },
    {
     "data": {
      "image/png": "[encoded data removed]",
      "text/plain": [
       "<Figure size 1400x1000 with 2 Axes>"
      ]
     },
     "metadata": {},
     "output_type": "display_data"
    }
   ],
   "source": [
    "plt.figure(figsize=(14,10))\n",
    "sns.heatmap(round(cereals_df.corr(numeric_only=True),2), annot=True)"
   ]
  },
  {
   "cell_type": "markdown",
   "metadata": {
    "id": "itJ9anNUiTE5"
   },
   "source": [
    "5. Elimina todos los registros con algún dato faltante y reinicia el índice del dataframe para que quede con valores consecutivos. "
   ]
  },
  {
   "cell_type": "code",
   "execution_count": 19,
   "metadata": {
    "id": "_V__MFtiod9w"
   },
   "outputs": [
    {
     "data": {
      "text/plain": [
       "name        0.000000\n",
       "mfr         0.000000\n",
       "type        0.000000\n",
       "calories    0.000000\n",
       "protein     0.000000\n",
       "fat         0.000000\n",
       "sodium      0.000000\n",
       "fiber       0.000000\n",
       "carbo       0.012987\n",
       "sugars      0.012987\n",
       "potass      0.025974\n",
       "vitamins    0.000000\n",
       "shelf       0.000000\n",
       "weight      0.000000\n",
       "cups        0.000000\n",
       "rating      0.000000\n",
       "dtype: float64"
      ]
     },
     "execution_count": 19,
     "metadata": {},
     "output_type": "execute_result"
    }
   ],
   "source": [
    "cereals_df.isna().mean()"
   ]
  },
  {
   "cell_type": "code",
   "execution_count": 20,
   "metadata": {},
   "outputs": [
    {
     "data": {
      "text/html": [
       "<div>\n",
       "<style scoped>\n",
       "    .dataframe tbody tr th:only-of-type {\n",
       "        vertical-align: middle;\n",
       "    }\n",
       "\n",
       "    .dataframe tbody tr th {\n",
       "        vertical-align: top;\n",
       "    }\n",
       "\n",
       "    .dataframe thead th {\n",
       "        text-align: right;\n",
       "    }\n",
       "</style>\n",
       "<table border=\"1\" class=\"dataframe\">\n",
       "  <thead>\n",
       "    <tr style=\"text-align: right;\">\n",
       "      <th></th>\n",
       "      <th>name</th>\n",
       "      <th>mfr</th>\n",
       "      <th>type</th>\n",
       "      <th>calories</th>\n",
       "      <th>protein</th>\n",
       "      <th>fat</th>\n",
       "      <th>sodium</th>\n",
       "      <th>fiber</th>\n",
       "      <th>carbo</th>\n",
       "      <th>sugars</th>\n",
       "      <th>potass</th>\n",
       "      <th>vitamins</th>\n",
       "      <th>shelf</th>\n",
       "      <th>weight</th>\n",
       "      <th>cups</th>\n",
       "      <th>rating</th>\n",
       "    </tr>\n",
       "  </thead>\n",
       "  <tbody>\n",
       "    <tr>\n",
       "      <th>0</th>\n",
       "      <td>100%_Bran</td>\n",
       "      <td>N</td>\n",
       "      <td>C</td>\n",
       "      <td>70</td>\n",
       "      <td>4</td>\n",
       "      <td>1</td>\n",
       "      <td>130</td>\n",
       "      <td>10.0</td>\n",
       "      <td>5.0</td>\n",
       "      <td>6.0</td>\n",
       "      <td>280.0</td>\n",
       "      <td>25</td>\n",
       "      <td>3</td>\n",
       "      <td>1.0</td>\n",
       "      <td>0.33</td>\n",
       "      <td>68.402973</td>\n",
       "    </tr>\n",
       "    <tr>\n",
       "      <th>1</th>\n",
       "      <td>100%_Natural_Bran</td>\n",
       "      <td>Q</td>\n",
       "      <td>C</td>\n",
       "      <td>120</td>\n",
       "      <td>3</td>\n",
       "      <td>5</td>\n",
       "      <td>15</td>\n",
       "      <td>2.0</td>\n",
       "      <td>8.0</td>\n",
       "      <td>8.0</td>\n",
       "      <td>135.0</td>\n",
       "      <td>0</td>\n",
       "      <td>3</td>\n",
       "      <td>1.0</td>\n",
       "      <td>1.00</td>\n",
       "      <td>33.983679</td>\n",
       "    </tr>\n",
       "    <tr>\n",
       "      <th>2</th>\n",
       "      <td>All-Bran</td>\n",
       "      <td>K</td>\n",
       "      <td>C</td>\n",
       "      <td>70</td>\n",
       "      <td>4</td>\n",
       "      <td>1</td>\n",
       "      <td>260</td>\n",
       "      <td>9.0</td>\n",
       "      <td>7.0</td>\n",
       "      <td>5.0</td>\n",
       "      <td>320.0</td>\n",
       "      <td>25</td>\n",
       "      <td>3</td>\n",
       "      <td>1.0</td>\n",
       "      <td>0.33</td>\n",
       "      <td>59.425505</td>\n",
       "    </tr>\n",
       "    <tr>\n",
       "      <th>3</th>\n",
       "      <td>All-Bran_with_Extra_Fiber</td>\n",
       "      <td>K</td>\n",
       "      <td>C</td>\n",
       "      <td>50</td>\n",
       "      <td>4</td>\n",
       "      <td>0</td>\n",
       "      <td>140</td>\n",
       "      <td>14.0</td>\n",
       "      <td>8.0</td>\n",
       "      <td>0.0</td>\n",
       "      <td>330.0</td>\n",
       "      <td>25</td>\n",
       "      <td>3</td>\n",
       "      <td>1.0</td>\n",
       "      <td>0.50</td>\n",
       "      <td>93.704912</td>\n",
       "    </tr>\n",
       "    <tr>\n",
       "      <th>4</th>\n",
       "      <td>Apple_Cinnamon_Cheerios</td>\n",
       "      <td>G</td>\n",
       "      <td>C</td>\n",
       "      <td>110</td>\n",
       "      <td>2</td>\n",
       "      <td>2</td>\n",
       "      <td>180</td>\n",
       "      <td>1.5</td>\n",
       "      <td>10.5</td>\n",
       "      <td>10.0</td>\n",
       "      <td>70.0</td>\n",
       "      <td>25</td>\n",
       "      <td>1</td>\n",
       "      <td>1.0</td>\n",
       "      <td>0.75</td>\n",
       "      <td>29.509541</td>\n",
       "    </tr>\n",
       "    <tr>\n",
       "      <th>...</th>\n",
       "      <td>...</td>\n",
       "      <td>...</td>\n",
       "      <td>...</td>\n",
       "      <td>...</td>\n",
       "      <td>...</td>\n",
       "      <td>...</td>\n",
       "      <td>...</td>\n",
       "      <td>...</td>\n",
       "      <td>...</td>\n",
       "      <td>...</td>\n",
       "      <td>...</td>\n",
       "      <td>...</td>\n",
       "      <td>...</td>\n",
       "      <td>...</td>\n",
       "      <td>...</td>\n",
       "      <td>...</td>\n",
       "    </tr>\n",
       "    <tr>\n",
       "      <th>69</th>\n",
       "      <td>Triples</td>\n",
       "      <td>G</td>\n",
       "      <td>C</td>\n",
       "      <td>110</td>\n",
       "      <td>2</td>\n",
       "      <td>1</td>\n",
       "      <td>250</td>\n",
       "      <td>0.0</td>\n",
       "      <td>21.0</td>\n",
       "      <td>3.0</td>\n",
       "      <td>60.0</td>\n",
       "      <td>25</td>\n",
       "      <td>3</td>\n",
       "      <td>1.0</td>\n",
       "      <td>0.75</td>\n",
       "      <td>39.106174</td>\n",
       "    </tr>\n",
       "    <tr>\n",
       "      <th>70</th>\n",
       "      <td>Trix</td>\n",
       "      <td>G</td>\n",
       "      <td>C</td>\n",
       "      <td>110</td>\n",
       "      <td>1</td>\n",
       "      <td>1</td>\n",
       "      <td>140</td>\n",
       "      <td>0.0</td>\n",
       "      <td>13.0</td>\n",
       "      <td>12.0</td>\n",
       "      <td>25.0</td>\n",
       "      <td>25</td>\n",
       "      <td>2</td>\n",
       "      <td>1.0</td>\n",
       "      <td>1.00</td>\n",
       "      <td>27.753301</td>\n",
       "    </tr>\n",
       "    <tr>\n",
       "      <th>71</th>\n",
       "      <td>Wheat_Chex</td>\n",
       "      <td>R</td>\n",
       "      <td>C</td>\n",
       "      <td>100</td>\n",
       "      <td>3</td>\n",
       "      <td>1</td>\n",
       "      <td>230</td>\n",
       "      <td>3.0</td>\n",
       "      <td>17.0</td>\n",
       "      <td>3.0</td>\n",
       "      <td>115.0</td>\n",
       "      <td>25</td>\n",
       "      <td>1</td>\n",
       "      <td>1.0</td>\n",
       "      <td>0.67</td>\n",
       "      <td>49.787445</td>\n",
       "    </tr>\n",
       "    <tr>\n",
       "      <th>72</th>\n",
       "      <td>Wheaties</td>\n",
       "      <td>G</td>\n",
       "      <td>C</td>\n",
       "      <td>100</td>\n",
       "      <td>3</td>\n",
       "      <td>1</td>\n",
       "      <td>200</td>\n",
       "      <td>3.0</td>\n",
       "      <td>17.0</td>\n",
       "      <td>3.0</td>\n",
       "      <td>110.0</td>\n",
       "      <td>25</td>\n",
       "      <td>1</td>\n",
       "      <td>1.0</td>\n",
       "      <td>1.00</td>\n",
       "      <td>51.592193</td>\n",
       "    </tr>\n",
       "    <tr>\n",
       "      <th>73</th>\n",
       "      <td>Wheaties_Honey_Gold</td>\n",
       "      <td>G</td>\n",
       "      <td>C</td>\n",
       "      <td>110</td>\n",
       "      <td>2</td>\n",
       "      <td>1</td>\n",
       "      <td>200</td>\n",
       "      <td>1.0</td>\n",
       "      <td>16.0</td>\n",
       "      <td>8.0</td>\n",
       "      <td>60.0</td>\n",
       "      <td>25</td>\n",
       "      <td>1</td>\n",
       "      <td>1.0</td>\n",
       "      <td>0.75</td>\n",
       "      <td>36.187559</td>\n",
       "    </tr>\n",
       "  </tbody>\n",
       "</table>\n",
       "<p>74 rows × 16 columns</p>\n",
       "</div>"
      ],
      "text/plain": [
       "                         name mfr type  calories  protein  fat  sodium  fiber  \\\n",
       "0                   100%_Bran   N    C        70        4    1     130   10.0   \n",
       "1           100%_Natural_Bran   Q    C       120        3    5      15    2.0   \n",
       "2                    All-Bran   K    C        70        4    1     260    9.0   \n",
       "3   All-Bran_with_Extra_Fiber   K    C        50        4    0     140   14.0   \n",
       "4     Apple_Cinnamon_Cheerios   G    C       110        2    2     180    1.5   \n",
       "..                        ...  ..  ...       ...      ...  ...     ...    ...   \n",
       "69                    Triples   G    C       110        2    1     250    0.0   \n",
       "70                       Trix   G    C       110        1    1     140    0.0   \n",
       "71                 Wheat_Chex   R    C       100        3    1     230    3.0   \n",
       "72                   Wheaties   G    C       100        3    1     200    3.0   \n",
       "73        Wheaties_Honey_Gold   G    C       110        2    1     200    1.0   \n",
       "\n",
       "    carbo  sugars  potass  vitamins shelf  weight  cups     rating  \n",
       "0     5.0     6.0   280.0        25     3     1.0  0.33  68.402973  \n",
       "1     8.0     8.0   135.0         0     3     1.0  1.00  33.983679  \n",
       "2     7.0     5.0   320.0        25     3     1.0  0.33  59.425505  \n",
       "3     8.0     0.0   330.0        25     3     1.0  0.50  93.704912  \n",
       "4    10.5    10.0    70.0        25     1     1.0  0.75  29.509541  \n",
       "..    ...     ...     ...       ...   ...     ...   ...        ...  \n",
       "69   21.0     3.0    60.0        25     3     1.0  0.75  39.106174  \n",
       "70   13.0    12.0    25.0        25     2     1.0  1.00  27.753301  \n",
       "71   17.0     3.0   115.0        25     1     1.0  0.67  49.787445  \n",
       "72   17.0     3.0   110.0        25     1     1.0  1.00  51.592193  \n",
       "73   16.0     8.0    60.0        25     1     1.0  0.75  36.187559  \n",
       "\n",
       "[74 rows x 16 columns]"
      ]
     },
     "execution_count": 20,
     "metadata": {},
     "output_type": "execute_result"
    }
   ],
   "source": [
    "cereals_df.dropna(subset=['carbo', 'sugars', 'potass'], inplace=True, axis=0)\n",
    "cereals_df.reset_index(drop=True,inplace=True)\n",
    "cereals_df"
   ]
  },
  {
   "cell_type": "markdown",
   "metadata": {
    "id": "S51rfjbMicoY"
   },
   "source": [
    "# **Parte 2**. Ingeniería de características"
   ]
  },
  {
   "cell_type": "markdown",
   "metadata": {
    "id": "-MQjqqisihp5"
   },
   "source": [
    "6. Considerando que `rating` es la variable de salida, almacénala en una variable `y` y separa los predictores **numéricos** en `X`. Escala los valores de `X` y aplica `PCA` para proyectar los datos en el nuevo espacio de vectores. "
   ]
  },
  {
   "cell_type": "code",
   "execution_count": 27,
   "metadata": {
    "id": "i3J4lTEpoe5I"
   },
   "outputs": [
    {
     "data": {
      "text/html": [
       "<div>\n",
       "<style scoped>\n",
       "    .dataframe tbody tr th:only-of-type {\n",
       "        vertical-align: middle;\n",
       "    }\n",
       "\n",
       "    .dataframe tbody tr th {\n",
       "        vertical-align: top;\n",
       "    }\n",
       "\n",
       "    .dataframe thead th {\n",
       "        text-align: right;\n",
       "    }\n",
       "</style>\n",
       "<table border=\"1\" class=\"dataframe\">\n",
       "  <thead>\n",
       "    <tr style=\"text-align: right;\">\n",
       "      <th></th>\n",
       "      <th>calories</th>\n",
       "      <th>protein</th>\n",
       "      <th>fat</th>\n",
       "      <th>sodium</th>\n",
       "      <th>fiber</th>\n",
       "      <th>carbo</th>\n",
       "      <th>sugars</th>\n",
       "      <th>potass</th>\n",
       "      <th>vitamins</th>\n",
       "      <th>shelf</th>\n",
       "      <th>weight</th>\n",
       "      <th>cups</th>\n",
       "    </tr>\n",
       "  </thead>\n",
       "  <tbody>\n",
       "    <tr>\n",
       "      <th>0</th>\n",
       "      <td>70</td>\n",
       "      <td>4</td>\n",
       "      <td>1</td>\n",
       "      <td>130</td>\n",
       "      <td>10.0</td>\n",
       "      <td>5.0</td>\n",
       "      <td>6.0</td>\n",
       "      <td>280.0</td>\n",
       "      <td>25</td>\n",
       "      <td>3</td>\n",
       "      <td>1.0</td>\n",
       "      <td>0.33</td>\n",
       "    </tr>\n",
       "    <tr>\n",
       "      <th>1</th>\n",
       "      <td>120</td>\n",
       "      <td>3</td>\n",
       "      <td>5</td>\n",
       "      <td>15</td>\n",
       "      <td>2.0</td>\n",
       "      <td>8.0</td>\n",
       "      <td>8.0</td>\n",
       "      <td>135.0</td>\n",
       "      <td>0</td>\n",
       "      <td>3</td>\n",
       "      <td>1.0</td>\n",
       "      <td>1.00</td>\n",
       "    </tr>\n",
       "    <tr>\n",
       "      <th>2</th>\n",
       "      <td>70</td>\n",
       "      <td>4</td>\n",
       "      <td>1</td>\n",
       "      <td>260</td>\n",
       "      <td>9.0</td>\n",
       "      <td>7.0</td>\n",
       "      <td>5.0</td>\n",
       "      <td>320.0</td>\n",
       "      <td>25</td>\n",
       "      <td>3</td>\n",
       "      <td>1.0</td>\n",
       "      <td>0.33</td>\n",
       "    </tr>\n",
       "    <tr>\n",
       "      <th>3</th>\n",
       "      <td>50</td>\n",
       "      <td>4</td>\n",
       "      <td>0</td>\n",
       "      <td>140</td>\n",
       "      <td>14.0</td>\n",
       "      <td>8.0</td>\n",
       "      <td>0.0</td>\n",
       "      <td>330.0</td>\n",
       "      <td>25</td>\n",
       "      <td>3</td>\n",
       "      <td>1.0</td>\n",
       "      <td>0.50</td>\n",
       "    </tr>\n",
       "    <tr>\n",
       "      <th>4</th>\n",
       "      <td>110</td>\n",
       "      <td>2</td>\n",
       "      <td>2</td>\n",
       "      <td>180</td>\n",
       "      <td>1.5</td>\n",
       "      <td>10.5</td>\n",
       "      <td>10.0</td>\n",
       "      <td>70.0</td>\n",
       "      <td>25</td>\n",
       "      <td>1</td>\n",
       "      <td>1.0</td>\n",
       "      <td>0.75</td>\n",
       "    </tr>\n",
       "    <tr>\n",
       "      <th>...</th>\n",
       "      <td>...</td>\n",
       "      <td>...</td>\n",
       "      <td>...</td>\n",
       "      <td>...</td>\n",
       "      <td>...</td>\n",
       "      <td>...</td>\n",
       "      <td>...</td>\n",
       "      <td>...</td>\n",
       "      <td>...</td>\n",
       "      <td>...</td>\n",
       "      <td>...</td>\n",
       "      <td>...</td>\n",
       "    </tr>\n",
       "    <tr>\n",
       "      <th>69</th>\n",
       "      <td>110</td>\n",
       "      <td>2</td>\n",
       "      <td>1</td>\n",
       "      <td>250</td>\n",
       "      <td>0.0</td>\n",
       "      <td>21.0</td>\n",
       "      <td>3.0</td>\n",
       "      <td>60.0</td>\n",
       "      <td>25</td>\n",
       "      <td>3</td>\n",
       "      <td>1.0</td>\n",
       "      <td>0.75</td>\n",
       "    </tr>\n",
       "    <tr>\n",
       "      <th>70</th>\n",
       "      <td>110</td>\n",
       "      <td>1</td>\n",
       "      <td>1</td>\n",
       "      <td>140</td>\n",
       "      <td>0.0</td>\n",
       "      <td>13.0</td>\n",
       "      <td>12.0</td>\n",
       "      <td>25.0</td>\n",
       "      <td>25</td>\n",
       "      <td>2</td>\n",
       "      <td>1.0</td>\n",
       "      <td>1.00</td>\n",
       "    </tr>\n",
       "    <tr>\n",
       "      <th>71</th>\n",
       "      <td>100</td>\n",
       "      <td>3</td>\n",
       "      <td>1</td>\n",
       "      <td>230</td>\n",
       "      <td>3.0</td>\n",
       "      <td>17.0</td>\n",
       "      <td>3.0</td>\n",
       "      <td>115.0</td>\n",
       "      <td>25</td>\n",
       "      <td>1</td>\n",
       "      <td>1.0</td>\n",
       "      <td>0.67</td>\n",
       "    </tr>\n",
       "    <tr>\n",
       "      <th>72</th>\n",
       "      <td>100</td>\n",
       "      <td>3</td>\n",
       "      <td>1</td>\n",
       "      <td>200</td>\n",
       "      <td>3.0</td>\n",
       "      <td>17.0</td>\n",
       "      <td>3.0</td>\n",
       "      <td>110.0</td>\n",
       "      <td>25</td>\n",
       "      <td>1</td>\n",
       "      <td>1.0</td>\n",
       "      <td>1.00</td>\n",
       "    </tr>\n",
       "    <tr>\n",
       "      <th>73</th>\n",
       "      <td>110</td>\n",
       "      <td>2</td>\n",
       "      <td>1</td>\n",
       "      <td>200</td>\n",
       "      <td>1.0</td>\n",
       "      <td>16.0</td>\n",
       "      <td>8.0</td>\n",
       "      <td>60.0</td>\n",
       "      <td>25</td>\n",
       "      <td>1</td>\n",
       "      <td>1.0</td>\n",
       "      <td>0.75</td>\n",
       "    </tr>\n",
       "  </tbody>\n",
       "</table>\n",
       "<p>74 rows × 12 columns</p>\n",
       "</div>"
      ],
      "text/plain": [
       "    calories  protein  fat  sodium  fiber  carbo  sugars  potass  vitamins  \\\n",
       "0         70        4    1     130   10.0    5.0     6.0   280.0        25   \n",
       "1        120        3    5      15    2.0    8.0     8.0   135.0         0   \n",
       "2         70        4    1     260    9.0    7.0     5.0   320.0        25   \n",
       "3         50        4    0     140   14.0    8.0     0.0   330.0        25   \n",
       "4        110        2    2     180    1.5   10.5    10.0    70.0        25   \n",
       "..       ...      ...  ...     ...    ...    ...     ...     ...       ...   \n",
       "69       110        2    1     250    0.0   21.0     3.0    60.0        25   \n",
       "70       110        1    1     140    0.0   13.0    12.0    25.0        25   \n",
       "71       100        3    1     230    3.0   17.0     3.0   115.0        25   \n",
       "72       100        3    1     200    3.0   17.0     3.0   110.0        25   \n",
       "73       110        2    1     200    1.0   16.0     8.0    60.0        25   \n",
       "\n",
       "   shelf  weight  cups  \n",
       "0      3     1.0  0.33  \n",
       "1      3     1.0  1.00  \n",
       "2      3     1.0  0.33  \n",
       "3      3     1.0  0.50  \n",
       "4      1     1.0  0.75  \n",
       "..   ...     ...   ...  \n",
       "69     3     1.0  0.75  \n",
       "70     2     1.0  1.00  \n",
       "71     1     1.0  0.67  \n",
       "72     1     1.0  1.00  \n",
       "73     1     1.0  0.75  \n",
       "\n",
       "[74 rows x 12 columns]"
      ]
     },
     "execution_count": 27,
     "metadata": {},
     "output_type": "execute_result"
    }
   ],
   "source": [
    "x = cereals_df.iloc[:,3:-1]\n",
    "x"
   ]
  },
  {
   "cell_type": "code",
   "execution_count": 28,
   "metadata": {},
   "outputs": [
    {
     "data": {
      "text/plain": [
       "0     68.402973\n",
       "1     33.983679\n",
       "2     59.425505\n",
       "3     93.704912\n",
       "4     29.509541\n",
       "        ...    \n",
       "69    39.106174\n",
       "70    27.753301\n",
       "71    49.787445\n",
       "72    51.592193\n",
       "73    36.187559\n",
       "Name: rating, Length: 74, dtype: float64"
      ]
     },
     "execution_count": 28,
     "metadata": {},
     "output_type": "execute_result"
    }
   ],
   "source": [
    "y = cereals_df.loc[:, 'rating']\n",
    "y"
   ]
  },
  {
   "cell_type": "code",
   "execution_count": 35,
   "metadata": {},
   "outputs": [
    {
     "data": {
      "text/plain": [
       "12"
      ]
     },
     "execution_count": 35,
     "metadata": {},
     "output_type": "execute_result"
    }
   ],
   "source": [
    "total_components= x.shape[1]\n",
    "total_components"
   ]
  },
  {
   "cell_type": "code",
   "execution_count": 39,
   "metadata": {},
   "outputs": [
    {
     "data": {
      "text/html": [
       "<div>\n",
       "<style scoped>\n",
       "    .dataframe tbody tr th:only-of-type {\n",
       "        vertical-align: middle;\n",
       "    }\n",
       "\n",
       "    .dataframe tbody tr th {\n",
       "        vertical-align: top;\n",
       "    }\n",
       "\n",
       "    .dataframe thead th {\n",
       "        text-align: right;\n",
       "    }\n",
       "</style>\n",
       "<table border=\"1\" class=\"dataframe\">\n",
       "  <thead>\n",
       "    <tr style=\"text-align: right;\">\n",
       "      <th></th>\n",
       "      <th>calories</th>\n",
       "      <th>protein</th>\n",
       "      <th>fat</th>\n",
       "      <th>sodium</th>\n",
       "      <th>fiber</th>\n",
       "      <th>carbo</th>\n",
       "      <th>sugars</th>\n",
       "      <th>potass</th>\n",
       "      <th>vitamins</th>\n",
       "      <th>shelf</th>\n",
       "      <th>weight</th>\n",
       "      <th>cups</th>\n",
       "    </tr>\n",
       "  </thead>\n",
       "  <tbody>\n",
       "    <tr>\n",
       "      <th>0</th>\n",
       "      <td>-1.878652</td>\n",
       "      <td>1.391180</td>\n",
       "      <td>0.0</td>\n",
       "      <td>-0.393692</td>\n",
       "      <td>3.250706</td>\n",
       "      <td>-2.517206</td>\n",
       "      <td>-0.255940</td>\n",
       "      <td>2.578001</td>\n",
       "      <td>-0.183083</td>\n",
       "      <td>0.948401</td>\n",
       "      <td>-0.202203</td>\n",
       "      <td>-2.099895</td>\n",
       "    </tr>\n",
       "    <tr>\n",
       "      <th>1</th>\n",
       "      <td>0.658214</td>\n",
       "      <td>0.455295</td>\n",
       "      <td>4.0</td>\n",
       "      <td>-1.792572</td>\n",
       "      <td>-0.072986</td>\n",
       "      <td>-1.741067</td>\n",
       "      <td>0.206001</td>\n",
       "      <td>0.518288</td>\n",
       "      <td>-1.312098</td>\n",
       "      <td>0.948401</td>\n",
       "      <td>-0.202203</td>\n",
       "      <td>0.761919</td>\n",
       "    </tr>\n",
       "    <tr>\n",
       "      <th>2</th>\n",
       "      <td>-1.878652</td>\n",
       "      <td>1.391180</td>\n",
       "      <td>0.0</td>\n",
       "      <td>1.187651</td>\n",
       "      <td>2.835245</td>\n",
       "      <td>-1.999780</td>\n",
       "      <td>-0.486911</td>\n",
       "      <td>3.146198</td>\n",
       "      <td>-0.183083</td>\n",
       "      <td>0.948401</td>\n",
       "      <td>-0.202203</td>\n",
       "      <td>-2.099895</td>\n",
       "    </tr>\n",
       "    <tr>\n",
       "      <th>3</th>\n",
       "      <td>-2.893399</td>\n",
       "      <td>1.391180</td>\n",
       "      <td>-1.0</td>\n",
       "      <td>-0.272050</td>\n",
       "      <td>4.912553</td>\n",
       "      <td>-1.741067</td>\n",
       "      <td>-1.641763</td>\n",
       "      <td>3.288247</td>\n",
       "      <td>-0.183083</td>\n",
       "      <td>0.948401</td>\n",
       "      <td>-0.202203</td>\n",
       "      <td>-1.373763</td>\n",
       "    </tr>\n",
       "    <tr>\n",
       "      <th>4</th>\n",
       "      <td>0.150841</td>\n",
       "      <td>-0.480589</td>\n",
       "      <td>1.0</td>\n",
       "      <td>0.214517</td>\n",
       "      <td>-0.280717</td>\n",
       "      <td>-1.094285</td>\n",
       "      <td>0.667942</td>\n",
       "      <td>-0.405032</td>\n",
       "      <td>-0.183083</td>\n",
       "      <td>-1.471657</td>\n",
       "      <td>-0.202203</td>\n",
       "      <td>-0.305922</td>\n",
       "    </tr>\n",
       "    <tr>\n",
       "      <th>...</th>\n",
       "      <td>...</td>\n",
       "      <td>...</td>\n",
       "      <td>...</td>\n",
       "      <td>...</td>\n",
       "      <td>...</td>\n",
       "      <td>...</td>\n",
       "      <td>...</td>\n",
       "      <td>...</td>\n",
       "      <td>...</td>\n",
       "      <td>...</td>\n",
       "      <td>...</td>\n",
       "      <td>...</td>\n",
       "    </tr>\n",
       "    <tr>\n",
       "      <th>69</th>\n",
       "      <td>0.150841</td>\n",
       "      <td>-0.480589</td>\n",
       "      <td>0.0</td>\n",
       "      <td>1.066009</td>\n",
       "      <td>-0.903910</td>\n",
       "      <td>1.622199</td>\n",
       "      <td>-0.948852</td>\n",
       "      <td>-0.547081</td>\n",
       "      <td>-0.183083</td>\n",
       "      <td>0.948401</td>\n",
       "      <td>-0.202203</td>\n",
       "      <td>-0.305922</td>\n",
       "    </tr>\n",
       "    <tr>\n",
       "      <th>70</th>\n",
       "      <td>0.150841</td>\n",
       "      <td>-1.416474</td>\n",
       "      <td>0.0</td>\n",
       "      <td>-0.272050</td>\n",
       "      <td>-0.903910</td>\n",
       "      <td>-0.447503</td>\n",
       "      <td>1.129883</td>\n",
       "      <td>-1.044254</td>\n",
       "      <td>-0.183083</td>\n",
       "      <td>-0.261628</td>\n",
       "      <td>-0.202203</td>\n",
       "      <td>0.761919</td>\n",
       "    </tr>\n",
       "    <tr>\n",
       "      <th>71</th>\n",
       "      <td>-0.356533</td>\n",
       "      <td>0.455295</td>\n",
       "      <td>0.0</td>\n",
       "      <td>0.822725</td>\n",
       "      <td>0.342475</td>\n",
       "      <td>0.587348</td>\n",
       "      <td>-0.948852</td>\n",
       "      <td>0.234189</td>\n",
       "      <td>-0.183083</td>\n",
       "      <td>-1.471657</td>\n",
       "      <td>-0.202203</td>\n",
       "      <td>-0.647631</td>\n",
       "    </tr>\n",
       "    <tr>\n",
       "      <th>72</th>\n",
       "      <td>-0.356533</td>\n",
       "      <td>0.455295</td>\n",
       "      <td>0.0</td>\n",
       "      <td>0.457800</td>\n",
       "      <td>0.342475</td>\n",
       "      <td>0.587348</td>\n",
       "      <td>-0.948852</td>\n",
       "      <td>0.163165</td>\n",
       "      <td>-0.183083</td>\n",
       "      <td>-1.471657</td>\n",
       "      <td>-0.202203</td>\n",
       "      <td>0.761919</td>\n",
       "    </tr>\n",
       "    <tr>\n",
       "      <th>73</th>\n",
       "      <td>0.150841</td>\n",
       "      <td>-0.480589</td>\n",
       "      <td>0.0</td>\n",
       "      <td>0.457800</td>\n",
       "      <td>-0.488448</td>\n",
       "      <td>0.328635</td>\n",
       "      <td>0.206001</td>\n",
       "      <td>-0.547081</td>\n",
       "      <td>-0.183083</td>\n",
       "      <td>-1.471657</td>\n",
       "      <td>-0.202203</td>\n",
       "      <td>-0.305922</td>\n",
       "    </tr>\n",
       "  </tbody>\n",
       "</table>\n",
       "<p>74 rows × 12 columns</p>\n",
       "</div>"
      ],
      "text/plain": [
       "    calories   protein  fat    sodium     fiber     carbo    sugars    potass  \\\n",
       "0  -1.878652  1.391180  0.0 -0.393692  3.250706 -2.517206 -0.255940  2.578001   \n",
       "1   0.658214  0.455295  4.0 -1.792572 -0.072986 -1.741067  0.206001  0.518288   \n",
       "2  -1.878652  1.391180  0.0  1.187651  2.835245 -1.999780 -0.486911  3.146198   \n",
       "3  -2.893399  1.391180 -1.0 -0.272050  4.912553 -1.741067 -1.641763  3.288247   \n",
       "4   0.150841 -0.480589  1.0  0.214517 -0.280717 -1.094285  0.667942 -0.405032   \n",
       "..       ...       ...  ...       ...       ...       ...       ...       ...   \n",
       "69  0.150841 -0.480589  0.0  1.066009 -0.903910  1.622199 -0.948852 -0.547081   \n",
       "70  0.150841 -1.416474  0.0 -0.272050 -0.903910 -0.447503  1.129883 -1.044254   \n",
       "71 -0.356533  0.455295  0.0  0.822725  0.342475  0.587348 -0.948852  0.234189   \n",
       "72 -0.356533  0.455295  0.0  0.457800  0.342475  0.587348 -0.948852  0.163165   \n",
       "73  0.150841 -0.480589  0.0  0.457800 -0.488448  0.328635  0.206001 -0.547081   \n",
       "\n",
       "    vitamins     shelf    weight      cups  \n",
       "0  -0.183083  0.948401 -0.202203 -2.099895  \n",
       "1  -1.312098  0.948401 -0.202203  0.761919  \n",
       "2  -0.183083  0.948401 -0.202203 -2.099895  \n",
       "3  -0.183083  0.948401 -0.202203 -1.373763  \n",
       "4  -0.183083 -1.471657 -0.202203 -0.305922  \n",
       "..       ...       ...       ...       ...  \n",
       "69 -0.183083  0.948401 -0.202203 -0.305922  \n",
       "70 -0.183083 -0.261628 -0.202203  0.761919  \n",
       "71 -0.183083 -1.471657 -0.202203 -0.647631  \n",
       "72 -0.183083 -1.471657 -0.202203  0.761919  \n",
       "73 -0.183083 -1.471657 -0.202203 -0.305922  \n",
       "\n",
       "[74 rows x 12 columns]"
      ]
     },
     "execution_count": 39,
     "metadata": {},
     "output_type": "execute_result"
    }
   ],
   "source": [
    "from sklearn.preprocessing import StandardScaler\n",
    "scaler = StandardScaler()\n",
    "x_scaled = scaler.fit_transform(x)\n",
    "x_scaled = pd.DataFrame(x_scaled, columns=scaler.get_feature_names_out())\n",
    "x_scaled"
   ]
  },
  {
   "cell_type": "code",
   "execution_count": 41,
   "metadata": {},
   "outputs": [],
   "source": [
    "from sklearn.decomposition import PCA\n",
    "pca = PCA()\n",
    "x_projected = pca.fit_transform(x_scaled)\n",
    "x_projected = pd.DataFrame(x_projected)"
   ]
  },
  {
   "cell_type": "markdown",
   "metadata": {
    "id": "cYeQ6zwSit8I"
   },
   "source": [
    "7. Obtén la curva del porcentaje de varianza acumulada y determine el número mínimo de componentes principales que explique más del 90% de la varianza. Imprime la información de dichos componentes. "
   ]
  },
  {
   "cell_type": "code",
   "execution_count": 43,
   "metadata": {
    "id": "g0iOZsi7oiEK"
   },
   "outputs": [
    {
     "name": "stdout",
     "output_type": "stream",
     "text": [
      "Valores propios [3.36484971, 2.68343251, 1.81049205, 1.0315095, 0.99776211, 0.69922773, 0.66888458, 0.42176628, 0.31802842, 0.09305466, 0.05706436, 0.01831167]\n"
     ]
    }
   ],
   "source": [
    "print('Valores propios', list(np.round(pca.explained_variance_, decimals=8)))"
   ]
  },
  {
   "cell_type": "code",
   "execution_count": 47,
   "metadata": {},
   "outputs": [
    {
     "name": "stdout",
     "output_type": "stream",
     "text": [
      "Porcentaje de varianza: [27.66148972 22.05974922 14.88354951  8.47975151  8.20232364  5.74815586\n",
      "  5.49871329  3.46722281  2.61442284  0.76497634  0.46911013  0.15053512]\n"
     ]
    }
   ],
   "source": [
    "print ('Porcentaje de varianza:', pca.explained_variance_ratio_*100)"
   ]
  },
  {
   "cell_type": "code",
   "execution_count": 44,
   "metadata": {},
   "outputs": [
    {
     "name": "stdout",
     "output_type": "stream",
     "text": [
      "porcentaje de varianza acumulada [0.2766149  0.49721239 0.64604788 0.7308454  0.81286864 0.87035019\n",
      " 0.92533733 0.96000956 0.98615378 0.99380355 0.99849465 1.        ]\n"
     ]
    }
   ],
   "source": [
    "print('porcentaje de varianza acumulada', np.cumsum(pca.explained_variance_ratio_))"
   ]
  },
  {
   "cell_type": "code",
   "execution_count": 94,
   "metadata": {},
   "outputs": [
    {
     "name": "stdout",
     "output_type": "stream",
     "text": [
      "Vectores propios\n",
      "[[ 3.65940581e-02  3.30887657e-01  2.12548775e-01 -5.08936595e-02\n",
      "   4.58623301e-01 -2.68608955e-01  8.14399579e-02  5.02603054e-01\n",
      "   1.88385579e-02  3.08929353e-01  2.57160143e-01 -3.71153758e-01]\n",
      " [-5.71142024e-01  4.53671747e-02 -2.49143226e-01 -3.04684185e-01\n",
      "   2.01029311e-01 -1.75660427e-01 -3.64843914e-01  7.03449944e-02\n",
      "  -3.00573874e-01 -6.51144332e-02 -4.48962056e-01 -1.06552657e-01]\n",
      " [-7.79270170e-02  3.26405299e-01 -2.91274339e-01  3.43107899e-01\n",
      "   1.73911820e-01  5.13002361e-01 -4.95337842e-01  1.30459589e-01\n",
      "   3.27562539e-01  5.45932482e-04  1.22029586e-01  8.26947954e-02]\n",
      " [-1.64031814e-01 -2.81264931e-01 -1.24324404e-01 -1.68915569e-01\n",
      "  -7.52953200e-02 -7.13054808e-02  1.60328426e-02 -1.12708399e-01\n",
      "   5.94798467e-01  6.67702679e-01 -1.60396224e-01 -3.06830647e-02]\n",
      " [ 1.86667486e-01  3.72133552e-01  5.97421856e-01 -2.92344384e-01\n",
      "  -2.29653302e-01  1.91829845e-01 -3.60370715e-01 -1.24887983e-01\n",
      "  -1.05581739e-01  2.65485477e-01 -2.32904827e-01  1.15826018e-01]\n",
      " [-1.96806000e-01  1.76822288e-01  2.99822306e-01  4.62005162e-01\n",
      "   8.46352457e-02 -4.46257395e-01  6.12891220e-02  6.84992872e-02\n",
      "   2.79949271e-01 -1.33268137e-01 -3.16544138e-01  4.64294749e-01]\n",
      " [ 6.22764161e-02  2.60647463e-01 -2.47777905e-01 -6.08269422e-01\n",
      "   9.56678421e-02 -2.69616959e-02  1.86843236e-01  1.47454534e-01\n",
      "   1.68033586e-01 -1.24162291e-01  1.86825542e-01  5.93052377e-01]\n",
      " [-4.88187772e-03 -4.18610096e-01  5.41287040e-02  1.67525462e-01\n",
      "   2.18240446e-01  1.72048751e-01 -6.77934100e-02  2.65666541e-01\n",
      "  -4.60537357e-01  4.16013095e-01  7.65506194e-02  5.00321083e-01]\n",
      " [ 4.32252715e-02  5.18397099e-01 -4.38047849e-01  2.47336500e-01\n",
      "  -2.58082083e-01 -1.35796445e-01  2.51198562e-01 -1.86549600e-01\n",
      "  -3.37769823e-01  4.15499639e-01 -6.79961909e-02  4.51039764e-02]\n",
      " [ 4.95843227e-01 -1.95646109e-02 -1.47949541e-01 -5.45563627e-03\n",
      "   2.92831963e-01  2.43900061e-01  2.47413239e-01  1.85987338e-01\n",
      "   5.19526282e-02 -4.70860423e-02 -6.92720315e-01 -7.75750279e-02]\n",
      " [ 1.91308596e-01  1.54270851e-02 -3.92400707e-03 -8.24854772e-03\n",
      "   6.37727100e-01 -1.48987222e-01 -1.28033019e-01 -7.06613387e-01\n",
      "  -3.62633743e-02  5.09884672e-02  1.06540275e-01  5.67972209e-02]\n",
      " [-5.26945123e-01  1.43274081e-01  2.59870918e-01 -8.84634764e-03\n",
      "   1.93905677e-01  5.12190966e-01  5.48455641e-01 -1.77238910e-01\n",
      "  -1.63223427e-02  1.76812203e-02 -2.52821508e-02 -2.85617529e-02]]\n"
     ]
    }
   ],
   "source": [
    "print('Vectores propios')\n",
    "print(pca.components_)"
   ]
  },
  {
   "cell_type": "code",
   "execution_count": null,
   "metadata": {},
   "outputs": [],
   "source": []
  },
  {
   "cell_type": "markdown",
   "metadata": {
    "id": "dmCLWDJwi3P2"
   },
   "source": [
    "8. ¿Cuáles son las tres variables más importantes en el cálculo del primer componente?\n"
   ]
  },
  {
   "cell_type": "code",
   "execution_count": 99,
   "metadata": {
    "id": "RDHX0DQ6ojB-"
   },
   "outputs": [
    {
     "name": "stdout",
     "output_type": "stream",
     "text": [
      "[ 0.03659406  0.33088766  0.21254877 -0.05089366  0.4586233  -0.26860895\n",
      "  0.08143996  0.50260305  0.01883856  0.30892935  0.25716014 -0.37115376]\n"
     ]
    },
    {
     "data": {
      "text/html": [
       "<div>\n",
       "<style scoped>\n",
       "    .dataframe tbody tr th:only-of-type {\n",
       "        vertical-align: middle;\n",
       "    }\n",
       "\n",
       "    .dataframe tbody tr th {\n",
       "        vertical-align: top;\n",
       "    }\n",
       "\n",
       "    .dataframe thead th {\n",
       "        text-align: right;\n",
       "    }\n",
       "</style>\n",
       "<table border=\"1\" class=\"dataframe\">\n",
       "  <thead>\n",
       "    <tr style=\"text-align: right;\">\n",
       "      <th></th>\n",
       "      <th>calories</th>\n",
       "      <th>protein</th>\n",
       "      <th>fat</th>\n",
       "      <th>sodium</th>\n",
       "      <th>fiber</th>\n",
       "      <th>carbo</th>\n",
       "      <th>sugars</th>\n",
       "      <th>potass</th>\n",
       "      <th>vitamins</th>\n",
       "      <th>shelf</th>\n",
       "      <th>weight</th>\n",
       "      <th>cups</th>\n",
       "    </tr>\n",
       "  </thead>\n",
       "  <tbody>\n",
       "    <tr>\n",
       "      <th>0</th>\n",
       "      <td>0.036594</td>\n",
       "      <td>0.330888</td>\n",
       "      <td>0.212549</td>\n",
       "      <td>-0.050894</td>\n",
       "      <td>0.458623</td>\n",
       "      <td>-0.268609</td>\n",
       "      <td>0.081440</td>\n",
       "      <td>0.502603</td>\n",
       "      <td>0.018839</td>\n",
       "      <td>0.308929</td>\n",
       "      <td>0.257160</td>\n",
       "      <td>-0.371154</td>\n",
       "    </tr>\n",
       "    <tr>\n",
       "      <th>1</th>\n",
       "      <td>-0.571142</td>\n",
       "      <td>0.045367</td>\n",
       "      <td>-0.249143</td>\n",
       "      <td>-0.304684</td>\n",
       "      <td>0.201029</td>\n",
       "      <td>-0.175660</td>\n",
       "      <td>-0.364844</td>\n",
       "      <td>0.070345</td>\n",
       "      <td>-0.300574</td>\n",
       "      <td>-0.065114</td>\n",
       "      <td>-0.448962</td>\n",
       "      <td>-0.106553</td>\n",
       "    </tr>\n",
       "    <tr>\n",
       "      <th>2</th>\n",
       "      <td>-0.077927</td>\n",
       "      <td>0.326405</td>\n",
       "      <td>-0.291274</td>\n",
       "      <td>0.343108</td>\n",
       "      <td>0.173912</td>\n",
       "      <td>0.513002</td>\n",
       "      <td>-0.495338</td>\n",
       "      <td>0.130460</td>\n",
       "      <td>0.327563</td>\n",
       "      <td>0.000546</td>\n",
       "      <td>0.122030</td>\n",
       "      <td>0.082695</td>\n",
       "    </tr>\n",
       "    <tr>\n",
       "      <th>3</th>\n",
       "      <td>-0.164032</td>\n",
       "      <td>-0.281265</td>\n",
       "      <td>-0.124324</td>\n",
       "      <td>-0.168916</td>\n",
       "      <td>-0.075295</td>\n",
       "      <td>-0.071305</td>\n",
       "      <td>0.016033</td>\n",
       "      <td>-0.112708</td>\n",
       "      <td>0.594798</td>\n",
       "      <td>0.667703</td>\n",
       "      <td>-0.160396</td>\n",
       "      <td>-0.030683</td>\n",
       "    </tr>\n",
       "    <tr>\n",
       "      <th>4</th>\n",
       "      <td>0.186667</td>\n",
       "      <td>0.372134</td>\n",
       "      <td>0.597422</td>\n",
       "      <td>-0.292344</td>\n",
       "      <td>-0.229653</td>\n",
       "      <td>0.191830</td>\n",
       "      <td>-0.360371</td>\n",
       "      <td>-0.124888</td>\n",
       "      <td>-0.105582</td>\n",
       "      <td>0.265485</td>\n",
       "      <td>-0.232905</td>\n",
       "      <td>0.115826</td>\n",
       "    </tr>\n",
       "    <tr>\n",
       "      <th>5</th>\n",
       "      <td>-0.196806</td>\n",
       "      <td>0.176822</td>\n",
       "      <td>0.299822</td>\n",
       "      <td>0.462005</td>\n",
       "      <td>0.084635</td>\n",
       "      <td>-0.446257</td>\n",
       "      <td>0.061289</td>\n",
       "      <td>0.068499</td>\n",
       "      <td>0.279949</td>\n",
       "      <td>-0.133268</td>\n",
       "      <td>-0.316544</td>\n",
       "      <td>0.464295</td>\n",
       "    </tr>\n",
       "    <tr>\n",
       "      <th>6</th>\n",
       "      <td>0.062276</td>\n",
       "      <td>0.260647</td>\n",
       "      <td>-0.247778</td>\n",
       "      <td>-0.608269</td>\n",
       "      <td>0.095668</td>\n",
       "      <td>-0.026962</td>\n",
       "      <td>0.186843</td>\n",
       "      <td>0.147455</td>\n",
       "      <td>0.168034</td>\n",
       "      <td>-0.124162</td>\n",
       "      <td>0.186826</td>\n",
       "      <td>0.593052</td>\n",
       "    </tr>\n",
       "  </tbody>\n",
       "</table>\n",
       "</div>"
      ],
      "text/plain": [
       "   calories   protein       fat    sodium     fiber     carbo    sugars  \\\n",
       "0  0.036594  0.330888  0.212549 -0.050894  0.458623 -0.268609  0.081440   \n",
       "1 -0.571142  0.045367 -0.249143 -0.304684  0.201029 -0.175660 -0.364844   \n",
       "2 -0.077927  0.326405 -0.291274  0.343108  0.173912  0.513002 -0.495338   \n",
       "3 -0.164032 -0.281265 -0.124324 -0.168916 -0.075295 -0.071305  0.016033   \n",
       "4  0.186667  0.372134  0.597422 -0.292344 -0.229653  0.191830 -0.360371   \n",
       "5 -0.196806  0.176822  0.299822  0.462005  0.084635 -0.446257  0.061289   \n",
       "6  0.062276  0.260647 -0.247778 -0.608269  0.095668 -0.026962  0.186843   \n",
       "\n",
       "     potass  vitamins     shelf    weight      cups  \n",
       "0  0.502603  0.018839  0.308929  0.257160 -0.371154  \n",
       "1  0.070345 -0.300574 -0.065114 -0.448962 -0.106553  \n",
       "2  0.130460  0.327563  0.000546  0.122030  0.082695  \n",
       "3 -0.112708  0.594798  0.667703 -0.160396 -0.030683  \n",
       "4 -0.124888 -0.105582  0.265485 -0.232905  0.115826  \n",
       "5  0.068499  0.279949 -0.133268 -0.316544  0.464295  \n",
       "6  0.147455  0.168034 -0.124162  0.186826  0.593052  "
      ]
     },
     "execution_count": 99,
     "metadata": {},
     "output_type": "execute_result"
    }
   ],
   "source": [
    "cumulative_variance = np.cumsum(pca.explained_variance_ratio_ * 100)\n",
    "#print(cumulative_variance)\n",
    "indices = np.where(cumulative_variance >= 90)\n",
    "indices[0][0]\n",
    "#print(pca.components_[indices[0][0] +1])\n",
    "print(pca.components_[0])\n",
    "#print(x_scaled)\n",
    "\n",
    "pc_df = pd.DataFrame(pca.components_[:7], columns=x.columns)\n",
    "pc_df"
   ]
  },
  {
   "cell_type": "code",
   "execution_count": 112,
   "metadata": {},
   "outputs": [
    {
     "data": {
      "text/plain": [
       "<Axes: xlabel='0'>"
      ]
     },
     "execution_count": 112,
     "metadata": {},
     "output_type": "execute_result"
    },
    {
     "data": {
      "image/png": "[encoded data removed]",
      "text/plain": [
       "<Figure size 640x480 with 1 Axes>"
      ]
     },
     "metadata": {},
     "output_type": "display_data"
    }
   ],
   "source": [
    "\n",
    "sns.barplot(data=pc_df.iloc[0].sort_values(ascending=False), orient='y')\n"
   ]
  },
  {
   "cell_type": "markdown",
   "metadata": {
    "id": "yIUm9oVPjw6Q"
   },
   "source": [
    "9. ¿Todas las variables categóricas son predictores? Aplica una técnica de encoding a las que sí lo sean. Justifica la elección de tu técnica. "
   ]
  },
  {
   "cell_type": "code",
   "execution_count": null,
   "metadata": {
    "id": "Q4pzwnTiokLs"
   },
   "outputs": [],
   "source": []
  },
  {
   "cell_type": "markdown",
   "metadata": {
    "id": "kJU_vJExj2Lh"
   },
   "source": [
    "10. Conjunta, en un dataframe, las valores proyectados en los componentes seleccionados (mínimo), las transformaciones obtenidas de las variables categóricas que serán predictores y la variable de salida. Almacena el dataframe resultante en archivo. "
   ]
  },
  {
   "cell_type": "code",
   "execution_count": null,
   "metadata": {
    "id": "DLcbTOUtolGR"
   },
   "outputs": [],
   "source": []
  }
 ],
 "metadata": {
  "colab": {
   "provenance": []
  },
  "kernelspec": {
   "display_name": "Python 3 (ipykernel)",
   "language": "python",
   "name": "python3"
  },
  "language_info": {
   "codemirror_mode": {
    "name": "ipython",
    "version": 3
   },
   "file_extension": ".py",
   "mimetype": "text/x-python",
   "name": "python",
   "nbconvert_exporter": "python",
   "pygments_lexer": "ipython3",
   "version": "3.11.5"
  }
 },
 "nbformat": 4,
 "nbformat_minor": 1
}
